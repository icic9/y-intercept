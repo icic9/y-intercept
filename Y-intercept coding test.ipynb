{
 "cells": [
  {
   "cell_type": "markdown",
   "id": "46d0a026",
   "metadata": {},
   "source": [
    "Y-intercept coding test <br> \n",
    "\n",
    "- The attached file contains the historical daily price and volume data from the past few years on a set of stocks\n",
    "\n",
    "- Please use your most familiar programming language (python preferred) to write a strategy, and backtest it (i.e. to prove your strategy would or would not work if you had run it).\n",
    "\n",
    "- The performance or outcome of your strategy won’t relate to your performance in our evaluation. But your research process will do.\n",
    "\n",
    "Please upload your initial version to a github and reply ALL to share the link to us in 3.5 hours.  You may continue to improve the work in following 20 hours.  Please let us know once you finished."
   ]
  },
  {
   "cell_type": "markdown",
   "id": "b800509c",
   "metadata": {},
   "source": [
    "Trading strategy development and backtesting"
   ]
  },
  {
   "cell_type": "code",
   "execution_count": 1,
   "id": "771bea2a",
   "metadata": {},
   "outputs": [],
   "source": [
    "# Modules to be imported\n",
    "import pandas as pd\n"
   ]
  },
  {
   "cell_type": "markdown",
   "id": "31201b79",
   "metadata": {},
   "source": [
    "Development"
   ]
  },
  {
   "cell_type": "markdown",
   "id": "7482949a",
   "metadata": {},
   "source": [
    "Firstly, import the data file into a dataframe, and do some manipulations to turn the data into its best form"
   ]
  },
  {
   "cell_type": "code",
   "execution_count": 28,
   "id": "b4963d58",
   "metadata": {},
   "outputs": [
    {
     "data": {
      "text/html": [
       "<div>\n",
       "<style scoped>\n",
       "    .dataframe tbody tr th:only-of-type {\n",
       "        vertical-align: middle;\n",
       "    }\n",
       "\n",
       "    .dataframe tbody tr th {\n",
       "        vertical-align: top;\n",
       "    }\n",
       "\n",
       "    .dataframe thead th {\n",
       "        text-align: right;\n",
       "    }\n",
       "</style>\n",
       "<table border=\"1\" class=\"dataframe\">\n",
       "  <thead>\n",
       "    <tr style=\"text-align: right;\">\n",
       "      <th></th>\n",
       "      <th>ticker</th>\n",
       "      <th>date</th>\n",
       "      <th>last</th>\n",
       "      <th>volume</th>\n",
       "    </tr>\n",
       "  </thead>\n",
       "  <tbody>\n",
       "    <tr>\n",
       "      <th>0</th>\n",
       "      <td>1332 JT</td>\n",
       "      <td>2013-01-04</td>\n",
       "      <td>169.0987</td>\n",
       "      <td>1464100</td>\n",
       "    </tr>\n",
       "    <tr>\n",
       "      <th>1</th>\n",
       "      <td>1332 JT</td>\n",
       "      <td>2013-01-07</td>\n",
       "      <td>166.3266</td>\n",
       "      <td>1783500</td>\n",
       "    </tr>\n",
       "    <tr>\n",
       "      <th>2</th>\n",
       "      <td>1332 JT</td>\n",
       "      <td>2013-01-08</td>\n",
       "      <td>166.3266</td>\n",
       "      <td>1759800</td>\n",
       "    </tr>\n",
       "    <tr>\n",
       "      <th>3</th>\n",
       "      <td>1332 JT</td>\n",
       "      <td>2013-01-09</td>\n",
       "      <td>165.4026</td>\n",
       "      <td>767800</td>\n",
       "    </tr>\n",
       "    <tr>\n",
       "      <th>4</th>\n",
       "      <td>1332 JT</td>\n",
       "      <td>2013-01-10</td>\n",
       "      <td>167.2507</td>\n",
       "      <td>1503100</td>\n",
       "    </tr>\n",
       "    <tr>\n",
       "      <th>...</th>\n",
       "      <td>...</td>\n",
       "      <td>...</td>\n",
       "      <td>...</td>\n",
       "      <td>...</td>\n",
       "    </tr>\n",
       "    <tr>\n",
       "      <th>451108</th>\n",
       "      <td>9984 JT</td>\n",
       "      <td>2021-03-15</td>\n",
       "      <td>10370.0000</td>\n",
       "      <td>12041200</td>\n",
       "    </tr>\n",
       "    <tr>\n",
       "      <th>451109</th>\n",
       "      <td>9984 JT</td>\n",
       "      <td>2021-03-16</td>\n",
       "      <td>10620.0000</td>\n",
       "      <td>11346000</td>\n",
       "    </tr>\n",
       "    <tr>\n",
       "      <th>451110</th>\n",
       "      <td>9984 JT</td>\n",
       "      <td>2021-03-17</td>\n",
       "      <td>10400.0000</td>\n",
       "      <td>9771000</td>\n",
       "    </tr>\n",
       "    <tr>\n",
       "      <th>451111</th>\n",
       "      <td>9984 JT</td>\n",
       "      <td>2021-03-18</td>\n",
       "      <td>10220.0000</td>\n",
       "      <td>13941600</td>\n",
       "    </tr>\n",
       "    <tr>\n",
       "      <th>451112</th>\n",
       "      <td>9984 JT</td>\n",
       "      <td>2021-03-19</td>\n",
       "      <td>9969.0000</td>\n",
       "      <td>20715700</td>\n",
       "    </tr>\n",
       "  </tbody>\n",
       "</table>\n",
       "<p>451113 rows × 4 columns</p>\n",
       "</div>"
      ],
      "text/plain": [
       "         ticker        date        last    volume\n",
       "0       1332 JT  2013-01-04    169.0987   1464100\n",
       "1       1332 JT  2013-01-07    166.3266   1783500\n",
       "2       1332 JT  2013-01-08    166.3266   1759800\n",
       "3       1332 JT  2013-01-09    165.4026    767800\n",
       "4       1332 JT  2013-01-10    167.2507   1503100\n",
       "...         ...         ...         ...       ...\n",
       "451108  9984 JT  2021-03-15  10370.0000  12041200\n",
       "451109  9984 JT  2021-03-16  10620.0000  11346000\n",
       "451110  9984 JT  2021-03-17  10400.0000   9771000\n",
       "451111  9984 JT  2021-03-18  10220.0000  13941600\n",
       "451112  9984 JT  2021-03-19   9969.0000  20715700\n",
       "\n",
       "[451113 rows x 4 columns]"
      ]
     },
     "execution_count": 28,
     "metadata": {},
     "output_type": "execute_result"
    }
   ],
   "source": [
    "df = pd.read_csv('data.csv').dropna()\n",
    "# df['date'] = pd.to_datetime(df['date'])\n",
    "# df = df.sort_values(by='date')\n",
    "df"
   ]
  },
  {
   "cell_type": "code",
   "execution_count": 64,
   "id": "c1b8f04f",
   "metadata": {},
   "outputs": [
    {
     "ename": "TypeError",
     "evalue": "list indices must be integers or slices, not str",
     "output_type": "error",
     "traceback": [
      "\u001b[0;31m---------------------------------------------------------------------------\u001b[0m",
      "\u001b[0;31mTypeError\u001b[0m                                 Traceback (most recent call last)",
      "\u001b[0;32m<ipython-input-64-cd5f85b24df7>\u001b[0m in \u001b[0;36m<module>\u001b[0;34m\u001b[0m\n\u001b[1;32m      5\u001b[0m \u001b[0mticker_last\u001b[0m \u001b[0;34m=\u001b[0m \u001b[0;34m{\u001b[0m\u001b[0mi\u001b[0m \u001b[0;34m:\u001b[0m \u001b[0;36m0\u001b[0m \u001b[0;32mfor\u001b[0m \u001b[0mi\u001b[0m \u001b[0;32min\u001b[0m \u001b[0mticker_list\u001b[0m\u001b[0;34m}\u001b[0m\u001b[0;34m\u001b[0m\u001b[0;34m\u001b[0m\u001b[0m\n\u001b[1;32m      6\u001b[0m \u001b[0;32mfor\u001b[0m \u001b[0mi\u001b[0m \u001b[0;32min\u001b[0m \u001b[0mticker_list\u001b[0m\u001b[0;34m:\u001b[0m\u001b[0;34m\u001b[0m\u001b[0;34m\u001b[0m\u001b[0m\n\u001b[0;32m----> 7\u001b[0;31m     \u001b[0mtemp_ticker_last\u001b[0m \u001b[0;34m=\u001b[0m \u001b[0mdf\u001b[0m\u001b[0;34m.\u001b[0m\u001b[0mloc\u001b[0m\u001b[0;34m[\u001b[0m\u001b[0mdf\u001b[0m\u001b[0;34m[\u001b[0m\u001b[0;34m'ticker'\u001b[0m\u001b[0;34m]\u001b[0m \u001b[0;34m==\u001b[0m \u001b[0mticker_list\u001b[0m\u001b[0;34m[\u001b[0m\u001b[0mi\u001b[0m\u001b[0;34m]\u001b[0m\u001b[0;34m]\u001b[0m\u001b[0;34m.\u001b[0m\u001b[0mreset_index\u001b[0m\u001b[0;34m(\u001b[0m\u001b[0;34m)\u001b[0m\u001b[0;34m.\u001b[0m\u001b[0mdrop\u001b[0m\u001b[0;34m(\u001b[0m\u001b[0;34m'index'\u001b[0m\u001b[0;34m,\u001b[0m \u001b[0maxis\u001b[0m \u001b[0;34m=\u001b[0m \u001b[0;36m1\u001b[0m\u001b[0;34m)\u001b[0m\u001b[0;34m.\u001b[0m\u001b[0miloc\u001b[0m\u001b[0;34m[\u001b[0m\u001b[0;34m-\u001b[0m\u001b[0;36m1\u001b[0m\u001b[0;34m,\u001b[0m \u001b[0;36m2\u001b[0m\u001b[0;34m]\u001b[0m\u001b[0;34m\u001b[0m\u001b[0;34m\u001b[0m\u001b[0m\n\u001b[0m\u001b[1;32m      8\u001b[0m     \u001b[0mticker_last\u001b[0m\u001b[0;34m[\u001b[0m\u001b[0mi\u001b[0m\u001b[0;34m]\u001b[0m \u001b[0;34m=\u001b[0m \u001b[0mtemp_ticker_last\u001b[0m\u001b[0;34m\u001b[0m\u001b[0;34m\u001b[0m\u001b[0m\n\u001b[1;32m      9\u001b[0m \u001b[0;31m# ticker_pos\u001b[0m\u001b[0;34m\u001b[0m\u001b[0;34m\u001b[0m\u001b[0;34m\u001b[0m\u001b[0m\n",
      "\u001b[0;31mTypeError\u001b[0m: list indices must be integers or slices, not str"
     ]
    }
   ],
   "source": [
    "# Initialize a dictionary recording position sizes for different tickers\n",
    "ticker_list = df['ticker'].unique().tolist()\n",
    "ticker_pos = {i : 0 for i in ticker_list}\n",
    "ticker_cash = {i : 100000 for i in ticker_list}\n",
    "ticker_last = {i : 0 for i in ticker_list}\n",
    "for i in ticker_list:\n",
    "    temp_ticker_last = df.loc[df['ticker'] == ticker_list[i]].reset_index().drop('index', axis = 1).iloc[-1, 2]\n",
    "    ticker_last[i] = temp_ticker_last \n",
    "# ticker_pos\n",
    "# ticker_cash\n",
    "ticker_last"
   ]
  },
  {
   "cell_type": "code",
   "execution_count": 63,
   "id": "0b81d693",
   "metadata": {},
   "outputs": [
    {
     "data": {
      "text/plain": [
       "4345.0"
      ]
     },
     "execution_count": 63,
     "metadata": {},
     "output_type": "execute_result"
    }
   ],
   "source": [
    "i = 5\n",
    "df.loc[df['ticker'] == ticker_list[i]].reset_index().drop('index', axis = 1).iloc[-1, 2]"
   ]
  },
  {
   "cell_type": "markdown",
   "id": "fb385f69",
   "metadata": {},
   "source": [
    "Basic strategy idea: Trend-following strategy based on \"Price x Volume\" parameter <br>\n",
    "\n",
    "Allocate $100,000 for each stock. For every stock, if <br> \n",
    "- Close > 5MA and there is enough cash, then long 1 share; \n",
    "- Close < 5MA and I hold >= 1 share, then sell 1 share"
   ]
  },
  {
   "cell_type": "code",
   "execution_count": 47,
   "id": "dfa1291f",
   "metadata": {},
   "outputs": [],
   "source": [
    "# Functions\n",
    "def price_vol_ma (days, dataframe):\n",
    "    temp = 0\n",
    "    for i in range(days):\n",
    "        temp += (dataframe.iloc[i, 2] * dataframe.iloc[i, 3])\n",
    "    return (temp/days)"
   ]
  },
  {
   "cell_type": "code",
   "execution_count": 56,
   "id": "317396c7",
   "metadata": {},
   "outputs": [
    {
     "data": {
      "text/html": [
       "<div>\n",
       "<style scoped>\n",
       "    .dataframe tbody tr th:only-of-type {\n",
       "        vertical-align: middle;\n",
       "    }\n",
       "\n",
       "    .dataframe tbody tr th {\n",
       "        vertical-align: top;\n",
       "    }\n",
       "\n",
       "    .dataframe thead th {\n",
       "        text-align: right;\n",
       "    }\n",
       "</style>\n",
       "<table border=\"1\" class=\"dataframe\">\n",
       "  <thead>\n",
       "    <tr style=\"text-align: right;\">\n",
       "      <th></th>\n",
       "      <th>ticker</th>\n",
       "      <th>date</th>\n",
       "      <th>last</th>\n",
       "      <th>volume</th>\n",
       "    </tr>\n",
       "  </thead>\n",
       "  <tbody>\n",
       "    <tr>\n",
       "      <th>0</th>\n",
       "      <td>1332 JT</td>\n",
       "      <td>2013-01-04</td>\n",
       "      <td>169.0987</td>\n",
       "      <td>1464100</td>\n",
       "    </tr>\n",
       "    <tr>\n",
       "      <th>1</th>\n",
       "      <td>1332 JT</td>\n",
       "      <td>2013-01-07</td>\n",
       "      <td>166.3266</td>\n",
       "      <td>1783500</td>\n",
       "    </tr>\n",
       "    <tr>\n",
       "      <th>2</th>\n",
       "      <td>1332 JT</td>\n",
       "      <td>2013-01-08</td>\n",
       "      <td>166.3266</td>\n",
       "      <td>1759800</td>\n",
       "    </tr>\n",
       "    <tr>\n",
       "      <th>3</th>\n",
       "      <td>1332 JT</td>\n",
       "      <td>2013-01-09</td>\n",
       "      <td>165.4026</td>\n",
       "      <td>767800</td>\n",
       "    </tr>\n",
       "    <tr>\n",
       "      <th>4</th>\n",
       "      <td>1332 JT</td>\n",
       "      <td>2013-01-10</td>\n",
       "      <td>167.2507</td>\n",
       "      <td>1503100</td>\n",
       "    </tr>\n",
       "    <tr>\n",
       "      <th>...</th>\n",
       "      <td>...</td>\n",
       "      <td>...</td>\n",
       "      <td>...</td>\n",
       "      <td>...</td>\n",
       "    </tr>\n",
       "    <tr>\n",
       "      <th>2000</th>\n",
       "      <td>1332 JT</td>\n",
       "      <td>2021-03-15</td>\n",
       "      <td>560.0000</td>\n",
       "      <td>1537500</td>\n",
       "    </tr>\n",
       "    <tr>\n",
       "      <th>2001</th>\n",
       "      <td>1332 JT</td>\n",
       "      <td>2021-03-16</td>\n",
       "      <td>559.0000</td>\n",
       "      <td>1594200</td>\n",
       "    </tr>\n",
       "    <tr>\n",
       "      <th>2002</th>\n",
       "      <td>1332 JT</td>\n",
       "      <td>2021-03-17</td>\n",
       "      <td>561.0000</td>\n",
       "      <td>1328200</td>\n",
       "    </tr>\n",
       "    <tr>\n",
       "      <th>2003</th>\n",
       "      <td>1332 JT</td>\n",
       "      <td>2021-03-18</td>\n",
       "      <td>565.0000</td>\n",
       "      <td>1421200</td>\n",
       "    </tr>\n",
       "    <tr>\n",
       "      <th>2004</th>\n",
       "      <td>1332 JT</td>\n",
       "      <td>2021-03-19</td>\n",
       "      <td>567.0000</td>\n",
       "      <td>2197500</td>\n",
       "    </tr>\n",
       "  </tbody>\n",
       "</table>\n",
       "<p>2005 rows × 4 columns</p>\n",
       "</div>"
      ],
      "text/plain": [
       "       ticker        date      last   volume\n",
       "0     1332 JT  2013-01-04  169.0987  1464100\n",
       "1     1332 JT  2013-01-07  166.3266  1783500\n",
       "2     1332 JT  2013-01-08  166.3266  1759800\n",
       "3     1332 JT  2013-01-09  165.4026   767800\n",
       "4     1332 JT  2013-01-10  167.2507  1503100\n",
       "...       ...         ...       ...      ...\n",
       "2000  1332 JT  2021-03-15  560.0000  1537500\n",
       "2001  1332 JT  2021-03-16  559.0000  1594200\n",
       "2002  1332 JT  2021-03-17  561.0000  1328200\n",
       "2003  1332 JT  2021-03-18  565.0000  1421200\n",
       "2004  1332 JT  2021-03-19  567.0000  2197500\n",
       "\n",
       "[2005 rows x 4 columns]"
      ]
     },
     "execution_count": 56,
     "metadata": {},
     "output_type": "execute_result"
    }
   ],
   "source": [
    "ma_days = 5\n",
    "start_row = ma_days + 1\n",
    "temp_ticker = ticker_list[0]\n",
    "\n",
    "temp_df = df.loc[df['ticker'] == temp_ticker].reset_index().drop('index', axis = 1)\n",
    "last_price = temp_df.iloc[-1, 2]\n",
    "last_volume = temp_df.iloc[-1, 3]\n",
    "\n",
    "temp_df\n",
    "# last_price = temp_df.iloc[-1, 2]\n",
    "# last_volume = temp_df.iloc[-1, 3]"
   ]
  },
  {
   "cell_type": "code",
   "execution_count": null,
   "id": "8dbe8a16",
   "metadata": {},
   "outputs": [],
   "source": [
    "# Scan through the temp dataframe. Do buy or sells accordingly\n",
    "# Update the cash position accordingly"
   ]
  },
  {
   "cell_type": "code",
   "execution_count": 53,
   "id": "ca518fbc",
   "metadata": {},
   "outputs": [
    {
     "data": {
      "text/plain": [
       "9426639920.0"
      ]
     },
     "execution_count": 53,
     "metadata": {},
     "output_type": "execute_result"
    }
   ],
   "source": [
    "asdf = temp_df.iloc[2000:(2000+ma_days),:].reset_index().drop('index', axis = 1)\n",
    "asdf_ma = price_vol_ma(ma_days, asdf)\n",
    "asdf_ma"
   ]
  },
  {
   "cell_type": "code",
   "execution_count": null,
   "id": "1e12488e",
   "metadata": {},
   "outputs": [],
   "source": [
    "asdf = "
   ]
  },
  {
   "cell_type": "code",
   "execution_count": null,
   "id": "b908b076",
   "metadata": {},
   "outputs": [],
   "source": []
  },
  {
   "cell_type": "markdown",
   "id": "1ba9ba5c",
   "metadata": {},
   "source": [
    "Backtesting: Performance, parameter and hyperparameter tuning"
   ]
  },
  {
   "cell_type": "code",
   "execution_count": null,
   "id": "5bcca394",
   "metadata": {},
   "outputs": [],
   "source": []
  },
  {
   "cell_type": "code",
   "execution_count": null,
   "id": "7cb17b97",
   "metadata": {},
   "outputs": [],
   "source": []
  },
  {
   "cell_type": "code",
   "execution_count": null,
   "id": "9c58c52c",
   "metadata": {},
   "outputs": [],
   "source": []
  },
  {
   "cell_type": "code",
   "execution_count": null,
   "id": "cdb3003e",
   "metadata": {},
   "outputs": [],
   "source": []
  },
  {
   "cell_type": "code",
   "execution_count": null,
   "id": "faf0d0c5",
   "metadata": {},
   "outputs": [],
   "source": []
  },
  {
   "cell_type": "code",
   "execution_count": null,
   "id": "4b3724e1",
   "metadata": {},
   "outputs": [],
   "source": []
  }
 ],
 "metadata": {
  "kernelspec": {
   "display_name": "Python 3",
   "language": "python",
   "name": "python3"
  },
  "language_info": {
   "codemirror_mode": {
    "name": "ipython",
    "version": 3
   },
   "file_extension": ".py",
   "mimetype": "text/x-python",
   "name": "python",
   "nbconvert_exporter": "python",
   "pygments_lexer": "ipython3",
   "version": "3.8.8"
  }
 },
 "nbformat": 4,
 "nbformat_minor": 5
}
